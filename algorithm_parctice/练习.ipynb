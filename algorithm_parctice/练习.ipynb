{
 "cells": [
  {
   "cell_type": "markdown",
   "metadata": {},
   "source": [
    "- 排序：冒泡排序"
   ]
  },
  {
   "cell_type": "code",
   "execution_count": 38,
   "metadata": {
    "collapsed": false
   },
   "outputs": [
    {
     "name": "stdout",
     "output_type": "stream",
     "text": [
      "排序后为：[48, 2890, 4137, 4513, 5459, 5495, 5988, 6402, 6498, 8790]\n"
     ]
    }
   ],
   "source": [
    "from random import randrange\n",
    "seq = [randrange(100**2) for i in range(10)]\n",
    "for i in range(len(seq)):\n",
    "    for j in range(i+1,len(seq)):\n",
    "        if seq[j] < seq[i]:\n",
    "            seq[i],seq[j] = seq[j],seq[i]\n",
    "print(\"排序后为：{}\".format(seq))\n"
   ]
  },
  {
   "cell_type": "markdown",
   "metadata": {},
   "source": [
    "- 找出数组中绝对差最小的2个数"
   ]
  },
  {
   "cell_type": "code",
   "execution_count": 29,
   "metadata": {
    "collapsed": false
   },
   "outputs": [
    {
     "name": "stdout",
     "output_type": "stream",
     "text": [
      "seq为：[77, 99, 144, 192, 209, 221, 285, 365, 377, 456, 491, 578, 604, 633, 737, 804, 806, 808, 831, 840],2个数为：(804, 806)\n"
     ]
    }
   ],
   "source": [
    "from random import randrange\n",
    "seq = [randrange(10**3) for i in range(20)]\n",
    "\n",
    "seq.sort()\n",
    "dd = float('inf')\n",
    "\n",
    "for i in range(len(seq)-1):\n",
    "    d = abs(seq[i] - seq[i+1])\n",
    "    if d < dd:\n",
    "        xx,yy,dd = seq[i],seq[i+1],d\n",
    "print(\"seq为：{},2个数为：{}\".format(seq,(xx,yy)))"
   ]
  },
  {
   "cell_type": "markdown",
   "metadata": {
    "collapsed": true
   },
   "source": [
    "- 去重"
   ]
  },
  {
   "cell_type": "code",
   "execution_count": 40,
   "metadata": {
    "collapsed": false
   },
   "outputs": [],
   "source": [
    "def foo(seq, key=None):\n",
    "    uniq_value = set()\n",
    "    for item in seq:\n",
    "        v = item if key is None else key(item)\n",
    "        if v not in uniq_value:\n",
    "            uniq_value.add(v)\n",
    "            yield item"
   ]
  },
  {
   "cell_type": "code",
   "execution_count": 41,
   "metadata": {
    "collapsed": false
   },
   "outputs": [
    {
     "data": {
      "text/plain": [
       "[4, 4, 0, 7, 7, 0, 5, 6, 0, 6, 3, 6, 0, 7, 7, 4, 2, 1, 0, 0]"
      ]
     },
     "execution_count": 41,
     "metadata": {},
     "output_type": "execute_result"
    }
   ],
   "source": [
    "from random import randrange\n",
    "seq = [randrange(10) for i in range(20)]\n",
    "seq"
   ]
  },
  {
   "cell_type": "code",
   "execution_count": 43,
   "metadata": {
    "collapsed": false
   },
   "outputs": [
    {
     "data": {
      "text/plain": [
       "[4, 0, 7, 5, 6, 3, 2, 1]"
      ]
     },
     "execution_count": 43,
     "metadata": {},
     "output_type": "execute_result"
    }
   ],
   "source": [
    "uniq = foo(seq)\n",
    "list(uniq)"
   ]
  },
  {
   "cell_type": "code",
   "execution_count": 44,
   "metadata": {
    "collapsed": false
   },
   "outputs": [
    {
     "data": {
      "text/plain": [
       "[{'x': 1, 'y': 2}, {'x': 2, 'y': 4}]"
      ]
     },
     "execution_count": 44,
     "metadata": {},
     "output_type": "execute_result"
    }
   ],
   "source": [
    "a = [{'x':1, 'y':2}, {'x':1, 'y':3}, {'x':1, 'y':2}, {'x':2, 'y':4}]\n",
    "uniq = foo(a, lambda x: x['x'])\n",
    "list(uniq)"
   ]
  },
  {
   "cell_type": "code",
   "execution_count": 45,
   "metadata": {
    "collapsed": false
   },
   "outputs": [
    {
     "data": {
      "text/plain": [
       "[{'x': 1, 'y': 2}, {'x': 1, 'y': 3}, {'x': 2, 'y': 4}]"
      ]
     },
     "execution_count": 45,
     "metadata": {},
     "output_type": "execute_result"
    }
   ],
   "source": [
    "uniq = foo(a, lambda x: (x['x'],x['y']))\n",
    "list(uniq)"
   ]
  },
  {
   "cell_type": "markdown",
   "metadata": {},
   "source": [
    "- 设计一个缓存"
   ]
  },
  {
   "cell_type": "code",
   "execution_count": 52,
   "metadata": {
    "collapsed": false,
    "scrolled": true
   },
   "outputs": [
    {
     "name": "stdout",
     "output_type": "stream",
     "text": [
      "已经插入1个，已经缓存1条数据\n",
      "已经插入2个，已经缓存2条数据\n",
      "已经插入3个，已经缓存3条数据\n",
      "已经插入4个，已经缓存4条数据\n",
      "已经插入5个，已经缓存5条数据\n",
      "已经插入6个，已经缓存6条数据\n",
      "已经插入7个，已经缓存7条数据\n",
      "已经插入8个，已经缓存8条数据\n",
      "已经插入9个，已经缓存9条数据\n",
      "已经插入10个，已经缓存10条数据\n",
      "已经插入11个，已经缓存10条数据\n",
      "已经插入12个，已经缓存10条数据\n",
      "已经插入13个，已经缓存10条数据\n",
      "已经插入14个，已经缓存10条数据\n",
      "已经插入15个，已经缓存10条数据\n",
      "[('other', {'date_access': datetime.datetime(2016, 8, 23, 14, 57, 48, 238910), 'value': 'ofjjgobi'}), ('alpha', {'date_access': datetime.datetime(2016, 8, 23, 14, 57, 48, 239125), 'value': 'cnhonala'}), ('bravo', {'date_access': datetime.datetime(2016, 8, 23, 14, 57, 48, 239338), 'value': 'mhhkefch'}), ('cal', {'date_access': datetime.datetime(2016, 8, 23, 14, 57, 48, 239561), 'value': 'nbgnhfbj'}), ('devo', {'date_access': datetime.datetime(2016, 8, 23, 14, 57, 48, 239759), 'value': 'hdjcdpfn'}), ('ele', {'date_access': datetime.datetime(2016, 8, 23, 14, 57, 48, 240004), 'value': 'mjonnepa'}), ('aaa', {'date_access': datetime.datetime(2016, 8, 23, 14, 57, 48, 240235), 'value': 'ljgdgein'}), ('bbb', {'date_access': datetime.datetime(2016, 8, 23, 14, 57, 48, 240464), 'value': 'fginfach'}), ('ccc', {'date_access': datetime.datetime(2016, 8, 23, 14, 57, 48, 240689), 'value': 'gmdgnlbb'}), ('ddd', {'date_access': datetime.datetime(2016, 8, 23, 14, 57, 48, 240909), 'value': 'pcgpklgf'})]\n"
     ]
    }
   ],
   "source": [
    "import datetime\n",
    "import random\n",
    "import time\n",
    "class MyCache(object):\n",
    "    \"\"\"docstring for MyCache\"\"\"\n",
    "    def __init__(self):\n",
    "        self.cache = {}\n",
    "        self.max_cache_size = 10\n",
    "    def __contains__(self, key):\n",
    "        return key in self.cache\n",
    "    def update(self, key, value):\n",
    "        if key not in self.cache and len(self.cache) >= self.max_cache_size:\n",
    "            self.remove_oldest()\n",
    "        self.cache[key] = {'date_access':datetime.datetime.now(), 'value':value}\n",
    "    def remove_oldest(self):\n",
    "        oldest_entry = None\n",
    "        for key in self.cache:\n",
    "            if not oldest_entry:\n",
    "                oldest_entry = key\n",
    "            elif self.cache[key]['date_access'] < self.cache[oldest_entry]['date_access']:\n",
    "                oldest_entry = key\n",
    "        self.cache.pop(oldest_entry)\n",
    "    @property\n",
    "    def size(self):\n",
    "        return len(self.cache)\n",
    "if __name__=='__main__':\n",
    "    keys = ['test', 'red', 'fox', 'fence', 'junk',\n",
    "            'other', 'alpha', 'bravo', 'cal', 'devo', 'ele','aaa', 'bbb', 'ccc', 'ddd']\n",
    "    s = 'abcdefghijklmnop'\n",
    "    cache = MyCache()\n",
    "    for i, key in enumerate(keys):\n",
    "        if key in cache:\n",
    "            continue\n",
    "        else:\n",
    "            value = ''.join(random.choice(s) for i in range(8))\n",
    "            cache.update(key, value)\n",
    "            time.sleep(0.0001)\n",
    "        print('已经插入%s个，已经缓存%s条数据' % (i+1, cache.size))\n",
    "    # print(cache.cache.items())\n",
    "    list_key = sorted(cache.cache.items(), key=lambda x:x[1]['date_access'])\n",
    "    print(list_key)\n",
    "    "
   ]
  },
  {
   "cell_type": "code",
   "execution_count": 62,
   "metadata": {
    "collapsed": false
   },
   "outputs": [
    {
     "name": "stdout",
     "output_type": "stream",
     "text": [
      "插入第1个，现在的len为：1\n",
      "插入第2个，现在的len为：2\n",
      "插入第3个，现在的len为：3\n",
      "插入第4个，现在的len为：4\n",
      "插入第5个，现在的len为：5\n",
      "插入第6个，现在的len为：6\n",
      "插入第7个，现在的len为：7\n",
      "插入第8个，现在的len为：8\n",
      "插入第9个，现在的len为：9\n",
      "插入第10个，现在的len为：10\n",
      "插入第11个，现在的len为：10\n",
      "插入第12个，现在的len为：10\n",
      "插入第13个，现在的len为：10\n",
      "插入第14个，现在的len为：10\n",
      "插入第15个，现在的len为：10\n"
     ]
    }
   ],
   "source": [
    "import random\n",
    "import datetime\n",
    "import time\n",
    "\n",
    "class Mycache(object):\n",
    "    \n",
    "    def __init__(self):\n",
    "        self.cache = {}\n",
    "        self.max_len = 10\n",
    "    \n",
    "    def __contains__(self, key):        \n",
    "        return key in self.cache        \n",
    "    \n",
    "    def update(self,key,value):\n",
    "        if len(self.cache) == self.max_len and key not in self.cache:            \n",
    "            self.remove_oldest()\n",
    "        self.cache[key] = {'time': datetime.datetime.now(),'str':value}\n",
    "        \n",
    "            \n",
    "    def remove_oldest(self):\n",
    "        cache_sort = sorted(self.cache, key = lambda i: self.cache[i]['time'])\n",
    "        min_key = cache_sort[0]\n",
    "        self.cache.pop(min_key)\n",
    "\n",
    "    @property    \n",
    "    def size(self):\n",
    "        return len(self.cache)\n",
    "                \n",
    "if __name__=='__main__':\n",
    "    keys = ['test', 'red', 'fox', 'fence', 'junk',\n",
    "            'other', 'alpha', 'bravo', 'cal', 'devo', 'ele','aaa', 'bbb', 'ccc', 'ddd']\n",
    "    s = 'abcdefghijklmnop'\n",
    "\n",
    "    cache = Mycache()\n",
    "    \n",
    "    \n",
    "    for i, key in enumerate(keys):\n",
    "        if key in cache: continue\n",
    "        else:\n",
    "            value = ''.join(random.choice(s) for i in range(8))\n",
    "            cache.update(key, value)\n",
    "            time.sleep(0.00001)\n",
    "            \n",
    "        print(\"插入第{}个，现在的len为：{}\".format(i + 1, cache.size))\n",
    "        \n",
    "        "
   ]
  },
  {
   "cell_type": "code",
   "execution_count": 69,
   "metadata": {
    "collapsed": false
   },
   "outputs": [
    {
     "data": {
      "text/plain": [
       "dict_keys(['devo', 'cal', 'aaa', 'ddd', 'alpha', 'ccc', 'bbb', 'bravo', 'other', 'ele'])"
      ]
     },
     "execution_count": 69,
     "metadata": {},
     "output_type": "execute_result"
    }
   ],
   "source": [
    "cache.cache.keys()"
   ]
  },
  {
   "cell_type": "markdown",
   "metadata": {
    "collapsed": true
   },
   "source": [
    "- 列表 [0,0,0,1,1,2,3,3,3,2,3,3,0,0] 分割成 [0,0,0],[1,1],[2],[3,3,3],[2],[3,3],[0,0]"
   ]
  },
  {
   "cell_type": "code",
   "execution_count": null,
   "metadata": {
    "collapsed": true
   },
   "outputs": [],
   "source": [
    "l_a = [0,0,0,1,1,2,3,3,3,2,3,3,0,0]\n",
    "for i in range(len(l_a)-1):\n",
    "    first = i\n",
    "    l_tmp = []\n",
    "    size = l_a[i]\n",
    "    if i = 1: continue\n",
    "    if l_a[i] == size:\n",
    "        l_tmp.extend(l_a[])\n",
    "\n",
    "    \n",
    "        "
   ]
  }
 ],
 "metadata": {
  "kernelspec": {
   "display_name": "Python 3",
   "language": "python",
   "name": "python3"
  },
  "language_info": {
   "codemirror_mode": {
    "name": "ipython",
    "version": 3
   },
   "file_extension": ".py",
   "mimetype": "text/x-python",
   "name": "python",
   "nbconvert_exporter": "python",
   "pygments_lexer": "ipython3",
   "version": "3.5.2"
  }
 },
 "nbformat": 4,
 "nbformat_minor": 0
}
