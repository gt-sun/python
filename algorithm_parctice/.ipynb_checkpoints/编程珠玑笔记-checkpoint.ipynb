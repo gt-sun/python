{
 "cells": [
  {
   "cell_type": "markdown",
   "metadata": {},
   "source": [
    "- 最大子向量 （第8章）"
   ]
  },
  {
   "cell_type": "markdown",
   "metadata": {},
   "source": [
    "法1：暴力循环3次"
   ]
  },
  {
   "cell_type": "code",
   "execution_count": 8,
   "metadata": {
    "collapsed": false
   },
   "outputs": [],
   "source": [
    "def fun():\n",
    "    l_one = [31, -41, 59, 26, -53, 58, 97, -93, -23, 84] * 100\n",
    "    maxsofar = 0\n",
    "    n = len(l_one)\n",
    "    for i in range(0, n):\n",
    "        for j in range(i, n):\n",
    "            sum = 0\n",
    "            for k in range(i, j+1):\n",
    "                sum += l_one[k]\n",
    "            maxsofar = max(maxsofar, sum)\n",
    "    return maxsofar"
   ]
  },
  {
   "cell_type": "code",
   "execution_count": 9,
   "metadata": {
    "collapsed": false
   },
   "outputs": [
    {
     "name": "stdout",
     "output_type": "stream",
     "text": [
      "CPU times: user 21.8 s, sys: 5.82 ms, total: 21.8 s\n",
      "Wall time: 21.8 s\n"
     ]
    },
    {
     "data": {
      "text/plain": [
       "14542"
      ]
     },
     "execution_count": 9,
     "metadata": {},
     "output_type": "execute_result"
    }
   ],
   "source": [
    "%time fun()"
   ]
  },
  {
   "cell_type": "markdown",
   "metadata": {},
   "source": [
    "法2：循环2次"
   ]
  },
  {
   "cell_type": "code",
   "execution_count": 10,
   "metadata": {
    "collapsed": true
   },
   "outputs": [],
   "source": [
    "def fun():\n",
    "    l_one = [31, -41, 59, 26, -53, 58, 97, -93, -23, 84] * 100\n",
    "    maxsofar = 0\n",
    "    n = len(l_one)\n",
    "    for i in range(0, n):\n",
    "        sum = 0\n",
    "        for j in range(i, n):\n",
    "            sum += l_one[j]\n",
    "            maxsofar = max(maxsofar, sum)\n",
    "    return maxsofar"
   ]
  },
  {
   "cell_type": "code",
   "execution_count": 11,
   "metadata": {
    "collapsed": false
   },
   "outputs": [
    {
     "name": "stdout",
     "output_type": "stream",
     "text": [
      "CPU times: user 226 ms, sys: 999 µs, total: 227 ms\n",
      "Wall time: 226 ms\n"
     ]
    },
    {
     "data": {
      "text/plain": [
       "14542"
      ]
     },
     "execution_count": 11,
     "metadata": {},
     "output_type": "execute_result"
    }
   ],
   "source": [
    "%time fun()"
   ]
  },
  {
   "cell_type": "markdown",
   "metadata": {
    "collapsed": true
   },
   "source": [
    "法3： 分治法 复杂度：O(n log n)"
   ]
  },
  {
   "cell_type": "code",
   "execution_count": 17,
   "metadata": {
    "collapsed": false
   },
   "outputs": [
    {
     "ename": "RecursionError",
     "evalue": "maximum recursion depth exceeded in comparison",
     "output_type": "error",
     "traceback": [
      "\u001b[0;31m---------------------------------------------------------------------------\u001b[0m",
      "\u001b[0;31mRecursionError\u001b[0m                            Traceback (most recent call last)",
      "\u001b[0;32m<ipython-input-17-4958fb4fd891>\u001b[0m in \u001b[0;36m<module>\u001b[0;34m()\u001b[0m\n\u001b[1;32m     17\u001b[0m         \u001b[0mrmax\u001b[0m \u001b[0;34m=\u001b[0m \u001b[0mmax\u001b[0m\u001b[0;34m(\u001b[0m\u001b[0mrmax\u001b[0m\u001b[0;34m,\u001b[0m \u001b[0msum\u001b[0m\u001b[0;34m)\u001b[0m\u001b[0;34m\u001b[0m\u001b[0m\n\u001b[1;32m     18\u001b[0m     \u001b[0;32mreturn\u001b[0m \u001b[0mmax\u001b[0m\u001b[0;34m(\u001b[0m\u001b[0mlmax\u001b[0m\u001b[0;34m+\u001b[0m\u001b[0mrmax\u001b[0m\u001b[0;34m,\u001b[0m \u001b[0mfun\u001b[0m\u001b[0;34m(\u001b[0m\u001b[0ml\u001b[0m\u001b[0;34m,\u001b[0m \u001b[0mm\u001b[0m\u001b[0;34m+\u001b[0m\u001b[0;36m1\u001b[0m\u001b[0;34m)\u001b[0m\u001b[0;34m,\u001b[0m \u001b[0mfun\u001b[0m\u001b[0;34m(\u001b[0m\u001b[0mm\u001b[0m\u001b[0;34m+\u001b[0m\u001b[0;36m1\u001b[0m\u001b[0;34m,\u001b[0m \u001b[0mu\u001b[0m\u001b[0;34m)\u001b[0m\u001b[0;34m)\u001b[0m\u001b[0;34m\u001b[0m\u001b[0m\n\u001b[0;32m---> 19\u001b[0;31m \u001b[0mfun\u001b[0m\u001b[0;34m(\u001b[0m\u001b[0;36m0\u001b[0m\u001b[0;34m,\u001b[0m \u001b[0;36m6\u001b[0m\u001b[0;34m)\u001b[0m\u001b[0;34m\u001b[0m\u001b[0m\n\u001b[0m\u001b[1;32m     20\u001b[0m \u001b[0;34m\u001b[0m\u001b[0m\n\u001b[1;32m     21\u001b[0m \u001b[0;34m\u001b[0m\u001b[0m\n",
      "\u001b[0;32m<ipython-input-17-4958fb4fd891>\u001b[0m in \u001b[0;36mfun\u001b[0;34m(l, u)\u001b[0m\n\u001b[1;32m     16\u001b[0m         \u001b[0msum\u001b[0m \u001b[0;34m+=\u001b[0m \u001b[0mitems\u001b[0m\u001b[0;34m[\u001b[0m\u001b[0mi\u001b[0m\u001b[0;34m]\u001b[0m\u001b[0;34m\u001b[0m\u001b[0m\n\u001b[1;32m     17\u001b[0m         \u001b[0mrmax\u001b[0m \u001b[0;34m=\u001b[0m \u001b[0mmax\u001b[0m\u001b[0;34m(\u001b[0m\u001b[0mrmax\u001b[0m\u001b[0;34m,\u001b[0m \u001b[0msum\u001b[0m\u001b[0;34m)\u001b[0m\u001b[0;34m\u001b[0m\u001b[0m\n\u001b[0;32m---> 18\u001b[0;31m     \u001b[0;32mreturn\u001b[0m \u001b[0mmax\u001b[0m\u001b[0;34m(\u001b[0m\u001b[0mlmax\u001b[0m\u001b[0;34m+\u001b[0m\u001b[0mrmax\u001b[0m\u001b[0;34m,\u001b[0m \u001b[0mfun\u001b[0m\u001b[0;34m(\u001b[0m\u001b[0ml\u001b[0m\u001b[0;34m,\u001b[0m \u001b[0mm\u001b[0m\u001b[0;34m+\u001b[0m\u001b[0;36m1\u001b[0m\u001b[0;34m)\u001b[0m\u001b[0;34m,\u001b[0m \u001b[0mfun\u001b[0m\u001b[0;34m(\u001b[0m\u001b[0mm\u001b[0m\u001b[0;34m+\u001b[0m\u001b[0;36m1\u001b[0m\u001b[0;34m,\u001b[0m \u001b[0mu\u001b[0m\u001b[0;34m)\u001b[0m\u001b[0;34m)\u001b[0m\u001b[0;34m\u001b[0m\u001b[0m\n\u001b[0m\u001b[1;32m     19\u001b[0m \u001b[0mfun\u001b[0m\u001b[0;34m(\u001b[0m\u001b[0;36m0\u001b[0m\u001b[0;34m,\u001b[0m \u001b[0;36m6\u001b[0m\u001b[0;34m)\u001b[0m\u001b[0;34m\u001b[0m\u001b[0m\n\u001b[1;32m     20\u001b[0m \u001b[0;34m\u001b[0m\u001b[0m\n",
      "... last 1 frames repeated, from the frame below ...\n",
      "\u001b[0;32m<ipython-input-17-4958fb4fd891>\u001b[0m in \u001b[0;36mfun\u001b[0;34m(l, u)\u001b[0m\n\u001b[1;32m     16\u001b[0m         \u001b[0msum\u001b[0m \u001b[0;34m+=\u001b[0m \u001b[0mitems\u001b[0m\u001b[0;34m[\u001b[0m\u001b[0mi\u001b[0m\u001b[0;34m]\u001b[0m\u001b[0;34m\u001b[0m\u001b[0m\n\u001b[1;32m     17\u001b[0m         \u001b[0mrmax\u001b[0m \u001b[0;34m=\u001b[0m \u001b[0mmax\u001b[0m\u001b[0;34m(\u001b[0m\u001b[0mrmax\u001b[0m\u001b[0;34m,\u001b[0m \u001b[0msum\u001b[0m\u001b[0;34m)\u001b[0m\u001b[0;34m\u001b[0m\u001b[0m\n\u001b[0;32m---> 18\u001b[0;31m     \u001b[0;32mreturn\u001b[0m \u001b[0mmax\u001b[0m\u001b[0;34m(\u001b[0m\u001b[0mlmax\u001b[0m\u001b[0;34m+\u001b[0m\u001b[0mrmax\u001b[0m\u001b[0;34m,\u001b[0m \u001b[0mfun\u001b[0m\u001b[0;34m(\u001b[0m\u001b[0ml\u001b[0m\u001b[0;34m,\u001b[0m \u001b[0mm\u001b[0m\u001b[0;34m+\u001b[0m\u001b[0;36m1\u001b[0m\u001b[0;34m)\u001b[0m\u001b[0;34m,\u001b[0m \u001b[0mfun\u001b[0m\u001b[0;34m(\u001b[0m\u001b[0mm\u001b[0m\u001b[0;34m+\u001b[0m\u001b[0;36m1\u001b[0m\u001b[0;34m,\u001b[0m \u001b[0mu\u001b[0m\u001b[0;34m)\u001b[0m\u001b[0;34m)\u001b[0m\u001b[0;34m\u001b[0m\u001b[0m\n\u001b[0m\u001b[1;32m     19\u001b[0m \u001b[0mfun\u001b[0m\u001b[0;34m(\u001b[0m\u001b[0;36m0\u001b[0m\u001b[0;34m,\u001b[0m \u001b[0;36m6\u001b[0m\u001b[0;34m)\u001b[0m\u001b[0;34m\u001b[0m\u001b[0m\n\u001b[1;32m     20\u001b[0m \u001b[0;34m\u001b[0m\u001b[0m\n",
      "\u001b[0;31mRecursionError\u001b[0m: maximum recursion depth exceeded in comparison"
     ]
    }
   ],
   "source": [
    "\n",
    "def fun(l, u):\n",
    "#     items = [31, -41, 59, 26, -53, 58, 97, -93, -23, 84]\n",
    "    items = [31, -41, 59, 26, -53, 58, 97]\n",
    "    \n",
    "    if l > u: return 0\n",
    "    if l == u: return max(0, items[l])\n",
    "    \n",
    "    m = (l + u) // 2\n",
    "    lmax = sum = 0\n",
    "    for i in range(m, l-1, -1):\n",
    "        sum += items[i]\n",
    "        lmax = max(lmax, sum)\n",
    "    rmax = sum = 0\n",
    "    for i in range(m+1, u+1):\n",
    "        sum += items[i]\n",
    "        rmax = max(rmax, sum)\n",
    "    return max(lmax+rmax, fun(l, m+1), fun(m+1, u))\n",
    "fun(0, 6)\n",
    "        \n",
    "    "
   ]
  },
  {
   "cell_type": "markdown",
   "metadata": {},
   "source": [
    "法4： 扫描算法\n",
    "\n",
    "线性算法"
   ]
  },
  {
   "cell_type": "code",
   "execution_count": 19,
   "metadata": {
    "collapsed": true
   },
   "outputs": [],
   "source": [
    "def fun():\n",
    "    items = [31, -41, 59, 26, -53, 58, 97, -93, -23, 84] * 100\n",
    "    n = len(items)\n",
    "    maxsofar = 0\n",
    "    maxendinghere = 0\n",
    "    for i in range(0, n):\n",
    "        maxendinghere = max(maxendinghere + items[i], 0)\n",
    "        maxsofar = max(maxendinghere, maxsofar)\n",
    "    return maxsofar\n"
   ]
  },
  {
   "cell_type": "code",
   "execution_count": 20,
   "metadata": {
    "collapsed": false
   },
   "outputs": [
    {
     "name": "stdout",
     "output_type": "stream",
     "text": [
      "CPU times: user 851 µs, sys: 0 ns, total: 851 µs\n",
      "Wall time: 850 µs\n"
     ]
    },
    {
     "data": {
      "text/plain": [
       "14542"
      ]
     },
     "execution_count": 20,
     "metadata": {},
     "output_type": "execute_result"
    }
   ],
   "source": [
    "%time fun()"
   ]
  },
  {
   "cell_type": "markdown",
   "metadata": {
    "collapsed": true
   },
   "source": [
    "### 9.3 二分查找"
   ]
  },
  {
   "cell_type": "markdown",
   "metadata": {},
   "source": [
    "- 伪代码1："
   ]
  },
  {
   "cell_type": "code",
   "execution_count": null,
   "metadata": {
    "collapsed": true
   },
   "outputs": [],
   "source": [
    "l = 0, u = n - 1  #列表x长度为n\n",
    "loop\n",
    "    if l > u\n",
    "        p = -1; break\n",
    "    m = (l + u) / 2\n",
    "    case\n",
    "        x[m] < t: l = m + 1\n",
    "        x[m] == t: p = m; break\n",
    "        x[m] > t: u = m - 1\n"
   ]
  },
  {
   "cell_type": "markdown",
   "metadata": {},
   "source": [
    "- 代码2："
   ]
  },
  {
   "cell_type": "markdown",
   "metadata": {},
   "source": [
    "思路：\n",
    "当l和u相等时，x[l]==x[p]"
   ]
  },
  {
   "cell_type": "code",
   "execution_count": 21,
   "metadata": {
    "collapsed": false
   },
   "outputs": [],
   "source": [
    "def foo(x, t):\n",
    "    n = len(x)\n",
    "    l = -1\n",
    "    u = n\n",
    "    while l + 1 != u:\n",
    "        m = (l + u) // 2\n",
    "        if x[m] < t:\n",
    "            l = m\n",
    "        else:\n",
    "            u = m\n",
    "    p = u\n",
    "    if p >= n or x[p] != t:\n",
    "        p = -1 #不存在\n",
    "    print(p)"
   ]
  },
  {
   "cell_type": "code",
   "execution_count": 51,
   "metadata": {
    "collapsed": false
   },
   "outputs": [
    {
     "name": "stdout",
     "output_type": "stream",
     "text": [
      "6865\n",
      "CPU times: user 55 µs, sys: 1e+03 ns, total: 56 µs\n",
      "Wall time: 59.1 µs\n"
     ]
    }
   ],
   "source": [
    "x = list(range(1,100001))\n",
    "%time foo(x, 6866)\n"
   ]
  },
  {
   "cell_type": "markdown",
   "metadata": {},
   "source": [
    "- 代码3："
   ]
  },
  {
   "cell_type": "markdown",
   "metadata": {},
   "source": [
    "思路：\n",
    "不去比较l==u的时候，而是根据l+i的增量，l+i==u"
   ]
  },
  {
   "cell_type": "code",
   "execution_count": 18,
   "metadata": {
    "collapsed": true
   },
   "outputs": [],
   "source": [
    "x = list(range(1, 1001))\n",
    "t = 666\n",
    "def foo(x, t):\n",
    "    i = 512\n",
    "    l = -1\n",
    "    if x[511] < t:\n",
    "        l = 1000 - 512\n",
    "    while i != l:\n",
    "        i = i // 2\n",
    "        if x[l + i] < t:\n",
    "            l = l + i\n",
    "    p = l + 1\n",
    "    if p > 1000 or x[p] != t:\n",
    "        p = -1\n",
    "    print(p)"
   ]
  },
  {
   "cell_type": "markdown",
   "metadata": {},
   "source": [
    "以上，运行函数无响应"
   ]
  },
  {
   "cell_type": "markdown",
   "metadata": {
    "collapsed": true
   },
   "source": [
    "## 11章"
   ]
  },
  {
   "cell_type": "markdown",
   "metadata": {},
   "source": [
    "- 插入排序"
   ]
  },
  {
   "cell_type": "markdown",
   "metadata": {},
   "source": [
    "思路：\n",
    "\n",
    "`|`就是i，i从左边移到右边，依次将右边的数插入到左边\n",
    "\n",
    "```\n",
    "3|1 4 2\n",
    "1 3|4 2\n",
    "1 3 4|2\n",
    "1 2 3 4|\n",
    "```"
   ]
  },
  {
   "cell_type": "code",
   "execution_count": 1,
   "metadata": {
    "collapsed": true
   },
   "outputs": [],
   "source": [
    "def foo(x):\n",
    "    n = len(x)\n",
    "    for i in range(1, n):\n",
    "        for j in range(i,0,-1):\n",
    "            if x[j-1] > x[j] and j > 0:\n",
    "                x[j-1],x[j] = x[j],x[j-1]\n",
    "    return x        "
   ]
  },
  {
   "cell_type": "code",
   "execution_count": 3,
   "metadata": {
    "collapsed": false
   },
   "outputs": [
    {
     "data": {
      "text/plain": [
       "[1, 2, 3, 4]"
      ]
     },
     "execution_count": 3,
     "metadata": {},
     "output_type": "execute_result"
    }
   ],
   "source": [
    "x = [3,1,4,2]\n",
    "foo(x)"
   ]
  },
  {
   "cell_type": "markdown",
   "metadata": {
    "collapsed": true
   },
   "source": [
    "- 快速排序"
   ]
  },
  {
   "cell_type": "markdown",
   "metadata": {},
   "source": [
    "https://zh.wikipedia.org/wiki/%E5%BF%AB%E9%80%9F%E6%8E%92%E5%BA%8F\n",
    "\n",
    "有个gif图。\n",
    "\n",
    "思路：\n",
    "\n",
    "选一个数与数组其他元素比大小，小的放左边，大的右边；然后左右2边的数组递归此步骤。"
   ]
  },
  {
   "cell_type": "code",
   "execution_count": 10,
   "metadata": {
    "collapsed": true
   },
   "outputs": [],
   "source": [
    "def qsort(x):\n",
    "    if len(x) <= 1:\n",
    "        return x\n",
    "    else:\n",
    "        p = x[0]\n",
    "        return qsort([i for i in x[1:] if i < p] + [p] + [i for i in x[1:] if i >= p])"
   ]
  },
  {
   "cell_type": "code",
   "execution_count": null,
   "metadata": {
    "collapsed": true
   },
   "outputs": [],
   "source": []
  }
 ],
 "metadata": {
  "kernelspec": {
   "display_name": "Python 3",
   "language": "python",
   "name": "python3"
  },
  "language_info": {
   "codemirror_mode": {
    "name": "ipython",
    "version": 3
   },
   "file_extension": ".py",
   "mimetype": "text/x-python",
   "name": "python",
   "nbconvert_exporter": "python",
   "pygments_lexer": "ipython3",
   "version": "3.5.2"
  }
 },
 "nbformat": 4,
 "nbformat_minor": 0
}
