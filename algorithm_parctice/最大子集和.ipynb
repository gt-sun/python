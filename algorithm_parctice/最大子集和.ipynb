{
 "cells": [
  {
   "cell_type": "markdown",
   "metadata": {},
   "source": [
    "- 最大子向量"
   ]
  },
  {
   "cell_type": "markdown",
   "metadata": {},
   "source": [
    "法1：暴力循环3次"
   ]
  },
  {
   "cell_type": "code",
   "execution_count": 8,
   "metadata": {
    "collapsed": false
   },
   "outputs": [],
   "source": [
    "def fun():\n",
    "    l_one = [31, -41, 59, 26, -53, 58, 97, -93, -23, 84] * 100\n",
    "    maxsofar = 0\n",
    "    n = len(l_one)\n",
    "    for i in range(0, n):\n",
    "        for j in range(i, n):\n",
    "            sum = 0\n",
    "            for k in range(i, j+1):\n",
    "                sum += l_one[k]\n",
    "            maxsofar = max(maxsofar, sum)\n",
    "    return maxsofar"
   ]
  },
  {
   "cell_type": "code",
   "execution_count": 9,
   "metadata": {
    "collapsed": false
   },
   "outputs": [
    {
     "name": "stdout",
     "output_type": "stream",
     "text": [
      "CPU times: user 21.8 s, sys: 5.82 ms, total: 21.8 s\n",
      "Wall time: 21.8 s\n"
     ]
    },
    {
     "data": {
      "text/plain": [
       "14542"
      ]
     },
     "execution_count": 9,
     "metadata": {},
     "output_type": "execute_result"
    }
   ],
   "source": [
    "%time fun()"
   ]
  },
  {
   "cell_type": "markdown",
   "metadata": {},
   "source": [
    "法2：循环2次"
   ]
  },
  {
   "cell_type": "code",
   "execution_count": 10,
   "metadata": {
    "collapsed": true
   },
   "outputs": [],
   "source": [
    "def fun():\n",
    "    l_one = [31, -41, 59, 26, -53, 58, 97, -93, -23, 84] * 100\n",
    "    maxsofar = 0\n",
    "    n = len(l_one)\n",
    "    for i in range(0, n):\n",
    "        sum = 0\n",
    "        for j in range(i, n):\n",
    "            sum += l_one[j]\n",
    "            maxsofar = max(maxsofar, sum)\n",
    "    return maxsofar"
   ]
  },
  {
   "cell_type": "code",
   "execution_count": 11,
   "metadata": {
    "collapsed": false
   },
   "outputs": [
    {
     "name": "stdout",
     "output_type": "stream",
     "text": [
      "CPU times: user 226 ms, sys: 999 µs, total: 227 ms\n",
      "Wall time: 226 ms\n"
     ]
    },
    {
     "data": {
      "text/plain": [
       "14542"
      ]
     },
     "execution_count": 11,
     "metadata": {},
     "output_type": "execute_result"
    }
   ],
   "source": [
    "%time fun()"
   ]
  },
  {
   "cell_type": "code",
   "execution_count": null,
   "metadata": {
    "collapsed": true
   },
   "outputs": [],
   "source": []
  }
 ],
 "metadata": {
  "kernelspec": {
   "display_name": "Python 3",
   "language": "python",
   "name": "python3"
  },
  "language_info": {
   "codemirror_mode": {
    "name": "ipython",
    "version": 3
   },
   "file_extension": ".py",
   "mimetype": "text/x-python",
   "name": "python",
   "nbconvert_exporter": "python",
   "pygments_lexer": "ipython3",
   "version": "3.5.2"
  }
 },
 "nbformat": 4,
 "nbformat_minor": 0
}
