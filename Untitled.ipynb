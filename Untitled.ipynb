{
 "cells": [
  {
   "cell_type": "code",
   "execution_count": 34,
   "metadata": {
    "collapsed": false
   },
   "outputs": [
    {
     "name": "stdout",
     "output_type": "stream",
     "text": [
      "[375] [200] [425]\n"
     ]
    }
   ],
   "source": [
    "import numpy\n",
    "import numpy.testing\n",
    "\n",
    "#三个自然数 a,b,c,(假设 a<b<c)，且 a^2 + b^2 = c^2，则这三个数被称为勾股数\n",
    "\n",
    "#本例要寻找三个勾股数的和为 1000 的时候，这三个数分别是什么？\n",
    "\n",
    "m = numpy.arange(33)\n",
    "n = numpy.arange(33)\n",
    "\n",
    "#计算 a,b,c\n",
    "a = numpy.subtract.outer(m ** 2, n ** 2)     #a = m^2 - n^2\n",
    "b = 2 * numpy.multiply.outer(m, n)           #b = 2mn\n",
    "c = numpy.add.outer(m ** 2, n ** 2)          #c = m^2 + n^2\n",
    "\n",
    "#找到符合条件的索引 a+b+c = 1000\n",
    "idx = numpy.where((a + b + c) == 1000)\n",
    "\n",
    "#检查结果\n",
    "numpy.testing.assert_equal(a[idx] ** 2 + b[idx] ** 2, c[idx] ** 2)\n",
    "print(a[idx],  b[idx], c[idx])"
   ]
  },
  {
   "cell_type": "code",
   "execution_count": 35,
   "metadata": {
    "collapsed": false
   },
   "outputs": [
    {
     "data": {
      "text/plain": [
       "array([ 0,  1,  2,  3,  4,  5,  6,  7,  8,  9, 10, 11, 12, 13, 14, 15, 16,\n",
       "       17, 18, 19, 20, 21, 22, 23, 24, 25, 26, 27, 28, 29, 30, 31, 32])"
      ]
     },
     "execution_count": 35,
     "metadata": {},
     "output_type": "execute_result"
    }
   ],
   "source": [
    "m"
   ]
  },
  {
   "cell_type": "code",
   "execution_count": 39,
   "metadata": {
    "collapsed": false
   },
   "outputs": [
    {
     "data": {
      "text/plain": [
       "13"
      ]
     },
     "execution_count": 39,
     "metadata": {},
     "output_type": "execute_result"
    }
   ],
   "source": [
    "def fib1(n):\n",
    "    if n==0:\n",
    "        return 0\n",
    "    elif n==1:\n",
    "        return 1\n",
    "    else:\n",
    "        return fib1(n-1) + fib1(n-2)\n",
    "\n",
    "fib1(7)"
   ]
  },
  {
   "cell_type": "code",
   "execution_count": 42,
   "metadata": {
    "collapsed": false
   },
   "outputs": [
    {
     "name": "stdout",
     "output_type": "stream",
     "text": [
      "Enter Series length to print fibonacci sequence9\n",
      "[0, 1, 1, 2, 3, 5, 8, 13, 21]\n"
     ]
    }
   ],
   "source": [
    "def Fibonacci_Series():\n",
    "    x = int(input('Enter Series length to print fibonacci sequence'))\n",
    "\n",
    "    d,e=0,1\n",
    "    a = []\n",
    "    a.append(d)\n",
    "    a.append(e)\n",
    "    while(x!=2):\n",
    "        \n",
    "        c = d + e\n",
    "        d = e\n",
    "        e = c\n",
    "        a.append(c)\n",
    "        x = x -1\n",
    "    print(a)\n",
    "Fibonacci_Series()"
   ]
  },
  {
   "cell_type": "code",
   "execution_count": 52,
   "metadata": {
    "collapsed": false,
    "scrolled": true
   },
   "outputs": [
    {
     "data": {
      "image/png": "[encoded data removed]",
      "text/plain": [
       "<matplotlib.figure.Figure at 0x7f7cf45f4908>"
      ]
     },
     "metadata": {},
     "output_type": "display_data"
    }
   ],
   "source": [
    "\n",
    "\"\"\"\n",
    " 随机生成各种颜色的小方块\n",
    "\"\"\"\n",
    "\n",
    "\n",
    "import numpy\n",
    "import matplotlib.pyplot\n",
    "%matplotlib inline\n",
    "\n",
    "\n",
    "N = 512\n",
    "\n",
    "NSQUARES = 85\n",
    "\n",
    "#初始化\n",
    "img = numpy.zeros((N, N), numpy.uint8)\n",
    "\n",
    "centers = numpy.random.randint(0, N, size=(NSQUARES, 2))\n",
    "\n",
    "radii = numpy.random.randint(0, N/9, size=NSQUARES)\n",
    "colors = numpy.random.randint(100, 255, size=NSQUARES)\n",
    "\n",
    "#生成小方块\n",
    "for i in range(NSQUARES):\n",
    "    \n",
    "    xindices = range(centers[i][0] - radii[i], centers[i][0] + radii[i])\n",
    "    xindices = numpy.clip(xindices, 0, N - 1)\n",
    "    yindices = range(centers[i][1] - radii[i], centers[i][1] + radii[i])\n",
    "    yindices = numpy.clip(yindices, 0, N - 1)\n",
    "\n",
    "    if len(xindices) == 0 or len(yindices) == 0:\n",
    "        continue\n",
    "\n",
    "    coordinates = numpy.meshgrid(xindices, yindices)\n",
    "    img[coordinates] = colors[i]\n",
    "\n",
    "#加载到内存映射区\n",
    "img.tofile('random_squares.raw')\n",
    "img_memmap = numpy.memmap('random_squares.raw', shape = img.shape)\n",
    "\n",
    "#显示图像\n",
    "\n",
    "matplotlib.pyplot.imshow(img_memmap)\n",
    "\n",
    "matplotlib.pyplot.axis('off')\n",
    "\n",
    "matplotlib.pyplot.show()\n"
   ]
  },
  {
   "cell_type": "code",
   "execution_count": 7,
   "metadata": {
    "collapsed": true
   },
   "outputs": [],
   "source": [
    "def foo():\n",
    "    k = 2 ** 20\n",
    "    print(k % 3)"
   ]
  },
  {
   "cell_type": "code",
   "execution_count": 8,
   "metadata": {
    "collapsed": false
   },
   "outputs": [
    {
     "name": "stdout",
     "output_type": "stream",
     "text": [
      "1\n",
      "CPU times: user 40 µs, sys: 4 µs, total: 44 µs\n",
      "Wall time: 47.7 µs\n"
     ]
    }
   ],
   "source": [
    "%time foo()"
   ]
  },
  {
   "cell_type": "code",
   "execution_count": 9,
   "metadata": {
    "collapsed": true
   },
   "outputs": [],
   "source": [
    "def bar():\n",
    "    k = 2 ** 20\n",
    "    while k > 3:\n",
    "        k -= 3\n",
    "    print(k)"
   ]
  },
  {
   "cell_type": "code",
   "execution_count": 10,
   "metadata": {
    "collapsed": false
   },
   "outputs": [
    {
     "name": "stdout",
     "output_type": "stream",
     "text": [
      "1\n",
      "CPU times: user 34.8 ms, sys: 857 µs, total: 35.7 ms\n",
      "Wall time: 35.3 ms\n"
     ]
    }
   ],
   "source": [
    "%time bar()"
   ]
  },
  {
   "cell_type": "code",
   "execution_count": 11,
   "metadata": {
    "collapsed": false
   },
   "outputs": [
    {
     "name": "stdout",
     "output_type": "stream",
     "text": [
      "Help on built-in function next in module builtins:\n",
      "\n",
      "next(...)\n",
      "    next(iterator[, default])\n",
      "    \n",
      "    Return the next item from the iterator. If default is given and the iterator\n",
      "    is exhausted, it is returned instead of raising StopIteration.\n",
      "\n"
     ]
    }
   ],
   "source": [
    "help(next)"
   ]
  },
  {
   "cell_type": "markdown",
   "metadata": {
    "collapsed": true
   },
   "source": [
    "- 测试交换位置的2种方法时间消耗"
   ]
  },
  {
   "cell_type": "code",
   "execution_count": 12,
   "metadata": {
    "collapsed": true
   },
   "outputs": [],
   "source": [
    "def foo():\n",
    "    a = 1\n",
    "    b = 2\n",
    "    a,b = b,a"
   ]
  },
  {
   "cell_type": "code",
   "execution_count": 13,
   "metadata": {
    "collapsed": true
   },
   "outputs": [],
   "source": [
    "def foo2():\n",
    "    a = 1\n",
    "    b = 2\n",
    "    tmp = a\n",
    "    a = b\n",
    "    b = tmp"
   ]
  },
  {
   "cell_type": "code",
   "execution_count": 14,
   "metadata": {
    "collapsed": false
   },
   "outputs": [
    {
     "name": "stdout",
     "output_type": "stream",
     "text": [
      "The slowest run took 10.72 times longer than the fastest. This could mean that an intermediate result is being cached.\n",
      "10000000 loops, best of 3: 170 ns per loop\n"
     ]
    }
   ],
   "source": [
    "%timeit foo()"
   ]
  },
  {
   "cell_type": "code",
   "execution_count": 15,
   "metadata": {
    "collapsed": false
   },
   "outputs": [
    {
     "name": "stdout",
     "output_type": "stream",
     "text": [
      "The slowest run took 8.86 times longer than the fastest. This could mean that an intermediate result is being cached.\n",
      "10000000 loops, best of 3: 178 ns per loop\n"
     ]
    }
   ],
   "source": [
    "%timeit foo2()"
   ]
  },
  {
   "cell_type": "code",
   "execution_count": null,
   "metadata": {
    "collapsed": true
   },
   "outputs": [],
   "source": []
  }
 ],
 "metadata": {
  "kernelspec": {
   "display_name": "Python 3",
   "language": "python",
   "name": "python3"
  },
  "language_info": {
   "codemirror_mode": {
    "name": "ipython",
    "version": 3
   },
   "file_extension": ".py",
   "mimetype": "text/x-python",
   "name": "python",
   "nbconvert_exporter": "python",
   "pygments_lexer": "ipython3",
   "version": "3.5.2"
  }
 },
 "nbformat": 4,
 "nbformat_minor": 0
}
