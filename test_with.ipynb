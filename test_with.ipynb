{
 "cells": [
  {
   "cell_type": "code",
   "execution_count": 15,
   "metadata": {
    "collapsed": false
   },
   "outputs": [],
   "source": [
    "class Dumm:\n",
    "    def __init__(self,tag):\n",
    "        self.tag = tag\n",
    "        print(\"Resource [%s]\" %tag)\n",
    "    \n",
    "    def __enter__(self):\n",
    "        print('[Enter %s]: Allocate resource' % self.tag)\n",
    "        return self\n",
    "\n",
    "    def __exit__(self, exc_type, exc_value, exc_tb):\n",
    "        print(\"[Exit %s]: Free resource\" %self.tag)\n",
    "        if exc_tb is None:\n",
    "            print(\"[Exit %s]: Exited without exception\" %self.tag)\n",
    "        else:\n",
    "            print(\"[Exit %s]: Exited with exception\" %self.tag)\n",
    "            return False\n",
    "        \n",
    "        "
   ]
  },
  {
   "cell_type": "code",
   "execution_count": 16,
   "metadata": {
    "collapsed": false
   },
   "outputs": [
    {
     "name": "stdout",
     "output_type": "stream",
     "text": [
      "Resource [Normal]\n",
      "[Enter Normal]: Allocate resource\n",
      "[with-body] Run without exception\n",
      "[Exit Normal]: Free resource\n",
      "[Exit Normal]: Exited without exception\n"
     ]
    }
   ],
   "source": [
    "with Dumm('Normal'):\n",
    "    print(\"[with-body] Run without exception\")"
   ]
  },
  {
   "cell_type": "code",
   "execution_count": 17,
   "metadata": {
    "collapsed": false
   },
   "outputs": [
    {
     "name": "stdout",
     "output_type": "stream",
     "text": [
      "Resource [With-Exception]\n",
      "[Enter With-Exception]: Allocate resource\n",
      "[with=body] Run with exception\n",
      "[Exit With-Exception]: Free resource\n",
      "[Exit With-Exception]: Exited with exception\n"
     ]
    },
    {
     "ename": "Exception",
     "evalue": "",
     "output_type": "error",
     "traceback": [
      "\u001b[0;31m---------------------------------------------------------------------------\u001b[0m",
      "\u001b[0;31mException\u001b[0m                                 Traceback (most recent call last)",
      "\u001b[0;32m<ipython-input-17-30f77fef396e>\u001b[0m in \u001b[0;36m<module>\u001b[0;34m()\u001b[0m\n\u001b[1;32m      1\u001b[0m \u001b[0;32mwith\u001b[0m \u001b[0mDumm\u001b[0m\u001b[0;34m(\u001b[0m\u001b[0;34m'With-Exception'\u001b[0m\u001b[0;34m)\u001b[0m\u001b[0;34m:\u001b[0m\u001b[0;34m\u001b[0m\u001b[0m\n\u001b[1;32m      2\u001b[0m     \u001b[0mprint\u001b[0m\u001b[0;34m(\u001b[0m\u001b[0;34m\"[with=body] Run with exception\"\u001b[0m\u001b[0;34m)\u001b[0m\u001b[0;34m\u001b[0m\u001b[0m\n\u001b[0;32m----> 3\u001b[0;31m     \u001b[0;32mraise\u001b[0m \u001b[0mException\u001b[0m\u001b[0;34m\u001b[0m\u001b[0m\n\u001b[0m\u001b[1;32m      4\u001b[0m     \u001b[0mprint\u001b[0m\u001b[0;34m(\u001b[0m\u001b[0;34m\"could not print here!\"\u001b[0m\u001b[0;34m)\u001b[0m\u001b[0;34m\u001b[0m\u001b[0m\n",
      "\u001b[0;31mException\u001b[0m: "
     ]
    }
   ],
   "source": [
    "with Dumm('With-Exception'):\n",
    "    print(\"[with=body] Run with exception\")\n",
    "    raise Exception\n",
    "    print(\"could not print here!\")"
   ]
  },
  {
   "cell_type": "code",
   "execution_count": null,
   "metadata": {
    "collapsed": true
   },
   "outputs": [],
   "source": []
  }
 ],
 "metadata": {
  "kernelspec": {
   "display_name": "Python 3",
   "language": "python",
   "name": "python3"
  },
  "language_info": {
   "codemirror_mode": {
    "name": "ipython",
    "version": 3
   },
   "file_extension": ".py",
   "mimetype": "text/x-python",
   "name": "python",
   "nbconvert_exporter": "python",
   "pygments_lexer": "ipython3",
   "version": "3.5.2"
  }
 },
 "nbformat": 4,
 "nbformat_minor": 0
}
